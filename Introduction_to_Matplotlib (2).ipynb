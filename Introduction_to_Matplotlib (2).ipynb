{
  "nbformat": 4,
  "nbformat_minor": 0,
  "metadata": {
    "colab": {
      "name": "Introduction to Matplotlib.ipynb",
      "provenance": []
    },
    "kernelspec": {
      "name": "python3",
      "display_name": "Python 3"
    },
    "language_info": {
      "name": "python"
    },
    "accelerator": "GPU"
  },
  "cells": [
    {
      "cell_type": "code",
      "execution_count": 1,
      "metadata": {
        "colab": {
          "base_uri": "https://localhost:8080/"
        },
        "id": "w94HUgD0IyGt",
        "outputId": "5501718c-5767-4e5d-a00b-71c9a6edaa02"
      },
      "outputs": [
        {
          "output_type": "stream",
          "name": "stdout",
          "text": [
            "Mounted at /content/drive\n"
          ]
        }
      ],
      "source": [
        "from google.colab import drive\n",
        "drive.mount('/content/drive')"
      ]
    },
    {
      "cell_type": "code",
      "source": [
        "%cd /content/drive/My Drive/Colab Notebooks"
      ],
      "metadata": {
        "colab": {
          "base_uri": "https://localhost:8080/"
        },
        "id": "J0-_n1Q8JHbo",
        "outputId": "f38106e9-6077-478a-abc4-ff3c4a1f8166"
      },
      "execution_count": 2,
      "outputs": [
        {
          "output_type": "stream",
          "name": "stdout",
          "text": [
            "/content/drive/My Drive/Colab Notebooks\n"
          ]
        }
      ]
    },
    {
      "cell_type": "markdown",
      "source": [
        "**Line graph**\n",
        "\n",
        "The line graph is used to represent a relationship between 2 continuous variables. This graph is used to reperesent the trend of a variable over time, such as interest rates, growth rate, inflation, and stock price."
      ],
      "metadata": {
        "id": "cPW8yz4pJmns"
      }
    },
    {
      "cell_type": "code",
      "source": [
        "import matplotlib.pyplot as plt\n",
        "import pandas as pd"
      ],
      "metadata": {
        "id": "r_DooHngKAWl"
      },
      "execution_count": 3,
      "outputs": []
    },
    {
      "cell_type": "code",
      "source": [
        "#Load the data set into the x,y coordinates\n",
        "stock=pd.read_csv('GOOG.csv', header=None, delimiter=',')"
      ],
      "metadata": {
        "id": "KY3uR0hlKMhz"
      },
      "execution_count": 4,
      "outputs": []
    },
    {
      "cell_type": "code",
      "source": [
        "# Add column names\n",
        "stock.columns=['date','price']"
      ],
      "metadata": {
        "id": "HYGBFWlfKW_z"
      },
      "execution_count": 5,
      "outputs": []
    },
    {
      "cell_type": "code",
      "source": [
        "# Conver the pandas DataFrame into a time series\n",
        "stock['date'] = pd.to_datetime(stock['date'], format='%d-%m-%Y')"
      ],
      "metadata": {
        "id": "cYHj19mJKire"
      },
      "execution_count": 6,
      "outputs": []
    },
    {
      "cell_type": "code",
      "source": [
        "# set the date as the index for the pandas DataFrame\n",
        "indexed_stock=stock.set_index('date')\n",
        "ts = indexed_stock['price']"
      ],
      "metadata": {
        "id": "yrJpjr8IKwzH"
      },
      "execution_count": 7,
      "outputs": []
    },
    {
      "cell_type": "code",
      "source": [
        "plt.plot(ts)\n",
        "# Display the plot\n",
        "plt.show()"
      ],
      "metadata": {
        "colab": {
          "base_uri": "https://localhost:8080/",
          "height": 265
        },
        "id": "4ekC07UUK7X7",
        "outputId": "c645e34c-b015-48ab-9190-04fb5d21d3ad"
      },
      "execution_count": 8,
      "outputs": [
        {
          "output_type": "display_data",
          "data": {
            "text/plain": [
              "<Figure size 432x288 with 1 Axes>"
            ],
            "image/png": "[encoded data removed]"
          },
          "metadata": {
            "needs_background": "light"
          }
        }
      ]
    },
    {
      "cell_type": "markdown",
      "source": [
        "pd.read_csv() function will specify:\n",
        "\n",
        "\n",
        "*   header=None, input file has no header\n",
        "\n",
        "*   delimiter=',', date and price are seperated by a comma(,)\n",
        "*   Read the data into Stock dataframe\n",
        "\n",
        "\n",
        "The stock.columns command assigns names for each of the attributes, date and price withint the stock DataFrame.\n",
        "\n",
        "pd.to_datetime() function will convert the date from the character format to the date time format. format='%d-%m-%Y' will specify the format of the date in the input file.\n",
        "\n",
        "\n",
        "*   stock.set_index() will set the date column as the index so that the price column can represent the time series data, which is understood by the plot command.\n",
        "\n"
      ],
      "metadata": {
        "id": "oMYzlx99LDf1"
      }
    },
    {
      "cell_type": "markdown",
      "source": [
        "**Bar plot**"
      ],
      "metadata": {
        "id": "RwmW73w-ehBF"
      }
    },
    {
      "cell_type": "code",
      "source": [
        "import numpy as np\n",
        "import calendar"
      ],
      "metadata": {
        "id": "gshaxWy8egya"
      },
      "execution_count": 9,
      "outputs": []
    },
    {
      "cell_type": "code",
      "source": [
        "# matplotlib accepts only floating point data types as its arguments for data. \n",
        "# So months have to be represented in numerical format\n",
        "month_num = [1, 2, 3, 4, 5, 6, 7, 8, 9, 10, 11, 12]\n",
        "units_sold = [500, 600, 750, 900, 1100, 1050, 1000, 950, 800, 700, 550, 450]"
      ],
      "metadata": {
        "id": "SAG56_c9epbX"
      },
      "execution_count": 10,
      "outputs": []
    },
    {
      "cell_type": "code",
      "source": [
        "fig, ax = plt.subplots()\n",
        "# change the month format from number to corresponding month name on x-axis. \n",
        "plt.xticks(month_num, calendar.month_name[1:13], rotation=20)\n",
        "# plot the bar graph\n",
        "plot = ax.bar(month_num, units_sold)\n"
      ],
      "metadata": {
        "colab": {
          "base_uri": "https://localhost:8080/",
          "height": 283
        },
        "id": "oD60p2fWfDC4",
        "outputId": "ec4f4302-b888-460a-81ef-cf63ed385f84"
      },
      "execution_count": 11,
      "outputs": [
        {
          "output_type": "display_data",
          "data": {
            "text/plain": [
              "<Figure size 432x288 with 1 Axes>"
            ],
            "image/png": "[encoded data removed]"
          },
          "metadata": {
            "needs_background": "light"
          }
        }
      ]
    },
    {
      "cell_type": "code",
      "source": [
        "# Add the data value to the head of the bar\n",
        "for rect in plot:\n",
        "    height = rect.get_height()\n",
        "    ax.text(rect.get_x() + rect.get_width()/2., 1.002*height,'%d' % int(height), ha='center', va='bottom')\n",
        "\n",
        "#Display the graph on the screen\n",
        "plt.show();\n"
      ],
      "metadata": {
        "id": "Npu_Kfe2faNU"
      },
      "execution_count": 12,
      "outputs": []
    },
    {
      "cell_type": "code",
      "source": [
        "plt.show();"
      ],
      "metadata": {
        "id": "hyhKYG3dgebU"
      },
      "execution_count": 13,
      "outputs": []
    },
    {
      "cell_type": "code",
      "source": [
        "# import numpy and calendar packages\n",
        "import matplotlib.pyplot as plt\n",
        "import numpy as np\n",
        "import calendar\n",
        "\n",
        "# matplotlib accepts only floating point data types as its arguments for data. \n",
        "# So months have to be represented in numerical format\n",
        "month_num = [1, 2, 3, 4, 5, 6, 7, 8, 9, 10, 11, 12]\n",
        "units_sold = [500, 600, 750, 900, 1100, 1050, 1000, 950, 800, 700, 550, 450]\n",
        "\n",
        "fig, ax = plt.subplots()\n",
        "# change the month format from number to corresponding month name on x-axis. \n",
        "plt.xticks(month_num, calendar.month_name[1:13], rotation=20)\n",
        "\n",
        "# plot the bar graph\n",
        "plot = ax.bar(month_num, units_sold)\n",
        "\n",
        "for rect in plot:\n",
        "    height = rect.get_height()\n",
        "    ax.text(rect.get_x() + rect.get_width()/2., 1.002*height,'%d' % int(height), ha='center', va='bottom')\n",
        "\n",
        "#Display the graph on the screen\n",
        "plt.show();"
      ],
      "metadata": {
        "id": "PFeBMRWohknx",
        "outputId": "f200e165-4718-4c81-f057-215798e4931d",
        "colab": {
          "base_uri": "https://localhost:8080/",
          "height": 284
        }
      },
      "execution_count": 14,
      "outputs": [
        {
          "output_type": "display_data",
          "data": {
            "text/plain": [
              "<Figure size 432x288 with 1 Axes>"
            ],
            "image/png": "[encoded data removed]"
          },
          "metadata": {
            "needs_background": "light"
          }
        }
      ]
    },
    {
      "cell_type": "markdown",
      "source": [
        "Month_num and units_sold are python list and they will represent the number of unit sold in each month of a year.\n",
        "\n",
        "plt.subplots() will allow us to define the layout of the figure in terms of the number of graphs and how they should be organized within the figure.\n",
        "\n",
        "We did change the month format from the numerical format to its corresponding month name on the x axis calendar.month_name[1:13] will return January to December, whereas plt.xticks() will change x axis tickers from nueric 1 to 12 to January to December and it will help for better understanding."
      ],
      "metadata": {
        "id": "8jmwhOfMapcN"
      }
    },
    {
      "cell_type": "markdown",
      "source": [
        "**Scatter Plot**\n",
        "\n",
        "\n",
        "A scatter plot is utilized to compare the distribution between 2 variables and see wheter there is any correlation between them"
      ],
      "metadata": {
        "id": "P4pwbhSZbYDn"
      }
    },
    {
      "cell_type": "code",
      "source": [
        "plt.figure(figsize=(10,6))\n",
        "age_weight = pd.read_excel('scatter_ex.xlsx','age_weight')"
      ],
      "metadata": {
        "colab": {
          "base_uri": "https://localhost:8080/",
          "height": 34
        },
        "id": "iy75WDWGbtiR",
        "outputId": "c9c6a086-7264-494c-a6d8-85f0db893b75"
      },
      "execution_count": 16,
      "outputs": [
        {
          "output_type": "display_data",
          "data": {
            "text/plain": [
              "<Figure size 720x432 with 0 Axes>"
            ]
          },
          "metadata": {}
        }
      ]
    },
    {
      "cell_type": "code",
      "source": [
        "x = age_weight['age']\n",
        "y=age_weight['weight']\n",
        "plt.scatter(x,y)\n",
        "\n",
        "plt.xlabel('Age')\n",
        "plt.ylabel('Weight')\n",
        "plt.show()"
      ],
      "metadata": {
        "colab": {
          "base_uri": "https://localhost:8080/",
          "height": 279
        },
        "id": "aJYZ6LR4cIHI",
        "outputId": "4e8ef029-8f65-48f0-9fd2-1dac7588234a"
      },
      "execution_count": 18,
      "outputs": [
        {
          "output_type": "display_data",
          "data": {
            "text/plain": [
              "<Figure size 432x288 with 1 Axes>"
            ],
            "image/png": "[encoded data removed]"
          },
          "metadata": {
            "needs_background": "light"
          }
        }
      ]
    },
    {
      "cell_type": "markdown",
      "source": [
        "**Code explaination**\n",
        "\n",
        "plt.figure(figsize=(10,6)) will overwrites the default figure size with size (10,6)\n",
        "plt.read_excel() will read the data and assigns values to the x, and y axes\n",
        "\n",
        "plt.scatter(x,y) plots the scatter plot\n",
        "\n",
        "plt.xlabel('Age'), plt.ylabel('Weight') will label x and y axes"
      ],
      "metadata": {
        "id": "6J01eOPTdEVC"
      }
    },
    {
      "cell_type": "markdown",
      "source": [
        "As can be seen from the graph above, there will be no relationship between the age and the weight of people as the points are scattered. If there is a relationship between these 2 elements we will see the patterns such as a straight line or a curve."
      ],
      "metadata": {
        "id": "yHYL2_xndgsO"
      }
    }
  ]
}