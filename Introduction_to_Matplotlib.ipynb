{
  "nbformat": 4,
  "nbformat_minor": 0,
  "metadata": {
    "colab": {
      "name": "Introduction to Matplotlib.ipynb",
      "provenance": []
    },
    "kernelspec": {
      "name": "python3",
      "display_name": "Python 3"
    },
    "language_info": {
      "name": "python"
    }
  },
  "cells": [
    {
      "cell_type": "code",
      "execution_count": 1,
      "metadata": {
        "colab": {
          "base_uri": "https://localhost:8080/"
        },
        "id": "w94HUgD0IyGt",
        "outputId": "b6894a3d-e487-4c15-ee6b-2d1fbe49516f"
      },
      "outputs": [
        {
          "output_type": "stream",
          "name": "stdout",
          "text": [
            "Mounted at /content/drive\n"
          ]
        }
      ],
      "source": [
        "from google.colab import drive\n",
        "drive.mount('/content/drive')"
      ]
    },
    {
      "cell_type": "code",
      "source": [
        "%cd /content/drive/My Drive/Colab Notebooks"
      ],
      "metadata": {
        "colab": {
          "base_uri": "https://localhost:8080/"
        },
        "id": "J0-_n1Q8JHbo",
        "outputId": "af8c84c9-bbcf-4ea4-9907-01546974fe89"
      },
      "execution_count": 2,
      "outputs": [
        {
          "output_type": "stream",
          "name": "stdout",
          "text": [
            "/content/drive/My Drive/Colab Notebooks\n"
          ]
        }
      ]
    },
    {
      "cell_type": "markdown",
      "source": [
        "**Line graph**\n",
        "\n",
        "The line graph is used to represent a relationship between 2 continuous variables. This graph is used to reperesent the trend of a variable over time, such as interest rates, growth rate, inflation, and stock price."
      ],
      "metadata": {
        "id": "cPW8yz4pJmns"
      }
    },
    {
      "cell_type": "code",
      "source": [
        "import matplotlib.pyplot as plt\n",
        "import pandas as pd"
      ],
      "metadata": {
        "id": "r_DooHngKAWl"
      },
      "execution_count": 3,
      "outputs": []
    },
    {
      "cell_type": "code",
      "source": [
        "#Load the data set into the x,y coordinates\n",
        "stock=pd.read_csv('GOOG.csv', header=None, delimiter=',')"
      ],
      "metadata": {
        "id": "KY3uR0hlKMhz"
      },
      "execution_count": 4,
      "outputs": []
    },
    {
      "cell_type": "code",
      "source": [
        "# Add column names\n",
        "stock.columns=['date','price']"
      ],
      "metadata": {
        "id": "HYGBFWlfKW_z"
      },
      "execution_count": 5,
      "outputs": []
    },
    {
      "cell_type": "code",
      "source": [
        "# Conver the pandas DataFrame into a time series\n",
        "stock['date'] = pd.to_datetime(stock['date'], format='%d-%m-%Y')"
      ],
      "metadata": {
        "id": "cYHj19mJKire"
      },
      "execution_count": 6,
      "outputs": []
    },
    {
      "cell_type": "code",
      "source": [
        "# set the date as the index for the pandas DataFrame\n",
        "indexed_stock=stock.set_index('date')\n",
        "ts = indexed_stock['price']"
      ],
      "metadata": {
        "id": "yrJpjr8IKwzH"
      },
      "execution_count": 7,
      "outputs": []
    },
    {
      "cell_type": "code",
      "source": [
        "plt.plot(ts)\n",
        "# Display the plot\n",
        "plt.show()"
      ],
      "metadata": {
        "colab": {
          "base_uri": "https://localhost:8080/",
          "height": 265
        },
        "id": "4ekC07UUK7X7",
        "outputId": "ce131696-5eee-4b0e-9ddf-0d357b5afcf2"
      },
      "execution_count": 8,
      "outputs": [
        {
          "output_type": "display_data",
          "data": {
            "text/plain": [
              "<Figure size 432x288 with 1 Axes>"
            ],
            "image/png": "[encoded data removed]"
          },
          "metadata": {
            "needs_background": "light"
          }
        }
      ]
    },
    {
      "cell_type": "markdown",
      "source": [
        "pd.read_csv() function will specify:\n",
        "\n",
        "\n",
        "*   header=None, input file has no header\n",
        "\n",
        "*   delimiter=',', date and price are seperated by a comma(,)\n",
        "*   Read the data into Stock dataframe\n",
        "\n",
        "\n",
        "The stock.columns command assigns names for each of the attributes, date and price withint the stock DataFrame.\n",
        "\n",
        "pd.to_datetime() function will convert the date from the character format to the date time format. format='%d-%m-%Y' will specify the format of the date in the input file.\n",
        "\n",
        "\n",
        "*   stock.set_index() will set the date column as the index so that the price column can represent the time series data, which is understood by the plot command.\n",
        "\n"
      ],
      "metadata": {
        "id": "oMYzlx99LDf1"
      }
    }
  ]
}